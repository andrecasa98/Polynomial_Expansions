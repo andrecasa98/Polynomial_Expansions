{
  "nbformat": 4,
  "nbformat_minor": 0,
  "metadata": {
    "colab": {
      "name": "scale.ipynb",
      "provenance": [],
      "collapsed_sections": []
    },
    "kernelspec": {
      "name": "python3",
      "display_name": "Python 3"
    },
    "language_info": {
      "name": "python"
    },
    "accelerator": "GPU",
    "gpuClass": "standard"
  },
  "cells": [
    {
      "cell_type": "markdown",
      "source": [
        "## NLP Model for Polynomial Expansion"
      ],
      "metadata": {
        "id": "mHsp-35ocylA"
      }
    },
    {
      "cell_type": "code",
      "execution_count": null,
      "metadata": {
        "id": "r-2ICsVicnBq"
      },
      "outputs": [],
      "source": [
        "import tensorflow as tf \n",
        "import keras\n",
        "import numpy as np\n",
        "import pandas as pd\n",
        "import re\n",
        "import math\n",
        "from typing import Tuple\n",
        "from keras.models import Model, load_model\n",
        "from keras.layers import Input, LSTM, Dense, Concatenate, Embedding, Dropout, Bidirectional\n",
        "from keras.preprocessing.text import Tokenizer\n",
        "from google.colab import drive"
      ]
    },
    {
      "cell_type": "code",
      "source": [
        "!python --version\n",
        "print(tf.__version__)\n",
        "print(np.__version__)\n",
        "print(pd.__version__)\n",
        "print(re.__version__)\n",
        "print(keras.__version__)"
      ],
      "metadata": {
        "colab": {
          "base_uri": "https://localhost:8080/"
        },
        "id": "jST_q14gfXVw",
        "outputId": "cc2fa83f-17ec-4d15-811a-26296f5fe0aa"
      },
      "execution_count": null,
      "outputs": [
        {
          "output_type": "stream",
          "name": "stdout",
          "text": [
            "Python 3.7.13\n",
            "2.8.2\n",
            "1.21.6\n",
            "1.3.5\n",
            "2.2.1\n"
          ]
        }
      ]
    },
    {
      "cell_type": "code",
      "source": [
        "drive.mount('/content/drive')"
      ],
      "metadata": {
        "colab": {
          "base_uri": "https://localhost:8080/"
        },
        "id": "7RAP530cdW8f",
        "outputId": "088ca241-f58a-4330-9c64-878d1eede687"
      },
      "execution_count": null,
      "outputs": [
        {
          "output_type": "stream",
          "name": "stdout",
          "text": [
            "Drive already mounted at /content/drive; to attempt to forcibly remount, call drive.mount(\"/content/drive\", force_remount=True).\n"
          ]
        }
      ]
    },
    {
      "cell_type": "code",
      "source": [
        "path_train = '/content/drive/MyDrive/Scale_AI/train.txt'"
      ],
      "metadata": {
        "id": "GpWVQM8rdiKL"
      },
      "execution_count": null,
      "outputs": []
    },
    {
      "cell_type": "code",
      "source": [
        "# Load data and eliminate duplicates\n",
        "\n",
        "def load_file(file_path: str) -> Tuple[Tuple[str], Tuple[str]]:\n",
        "    data = open(file_path, \"r\").readlines()\n",
        "    data = list(set(data))\n",
        "    factors, expansions = zip(*[line.strip().split(\"=\") for line in data])\n",
        "    return factors, expansions"
      ],
      "metadata": {
        "id": "znbEqI86dlpO"
      },
      "execution_count": null,
      "outputs": []
    },
    {
      "cell_type": "code",
      "source": [
        "# From EDA\n",
        "\n",
        "VOCAB = '[0-9]|[a-z]|\\*+|\\(|\\)|\\+|\\-'\n",
        "MAX_LENGTH = 29"
      ],
      "metadata": {
        "id": "imWqUuNUer9F"
      },
      "execution_count": null,
      "outputs": []
    },
    {
      "cell_type": "code",
      "source": [
        "# Text cleaning and tokenization\n",
        "\n",
        "factors, expansions = load_file(path_train)\n",
        "\n",
        "factors_prep = []\n",
        "expansions_prep = []\n",
        "\n",
        "for f in factors:\n",
        "  f = f.strip()\n",
        "  factors_prep.append(re.findall(VOCAB, f))\n",
        " \n",
        "for e in expansions:\n",
        "  e = e.strip()\n",
        "  expansions_prep.append(re.findall(VOCAB, e))\n",
        " "
      ],
      "metadata": {
        "id": "Tkb7OrDZcySY"
      },
      "execution_count": null,
      "outputs": []
    },
    {
      "cell_type": "code",
      "source": [
        "print(factors[31])\n",
        "print(factors_prep[31])"
      ],
      "metadata": {
        "colab": {
          "base_uri": "https://localhost:8080/"
        },
        "id": "YZNc1QlQt-VR",
        "outputId": "c2699c4f-ac9e-42ce-c8b1-60dc47c4b253"
      },
      "execution_count": null,
      "outputs": [
        {
          "output_type": "stream",
          "name": "stdout",
          "text": [
            "(18-6*i)*(i+19)\n",
            "['(', '1', '8', '-', '6', '*', 'i', ')', '*', '(', 'i', '+', '1', '9', ')']\n"
          ]
        }
      ]
    },
    {
      "cell_type": "code",
      "source": [
        "# Make sure the maximum length is under 29\n",
        "\n",
        "print(max(map(len, factors_prep)))\n",
        "print(max(map(len, expansions_prep)))"
      ],
      "metadata": {
        "colab": {
          "base_uri": "https://localhost:8080/"
        },
        "id": "EUgDhP9Ne3Ye",
        "outputId": "42352578-521c-45cb-e8d3-ce38404fb647"
      },
      "execution_count": null,
      "outputs": [
        {
          "output_type": "stream",
          "name": "stdout",
          "text": [
            "29\n",
            "27\n"
          ]
        }
      ]
    },
    {
      "cell_type": "code",
      "source": [
        "# Increase max expansions length by 1 because of the bos token\n",
        "\n",
        "max_factors_length = 29\n",
        "max_expansions_length = 28 "
      ],
      "metadata": {
        "id": "Qq2tm38yGjSN"
      },
      "execution_count": null,
      "outputs": []
    },
    {
      "cell_type": "code",
      "source": [
        "# Vocabulary generation\n",
        "\n",
        "def create_vocab(sentences):\n",
        "\n",
        "  tokenizer = Tokenizer(num_words=None)\n",
        "  tokenizer.fit_on_texts(sentences)\n",
        "  dictionary = tokenizer.word_index\n",
        "          \n",
        "  return dictionary"
      ],
      "metadata": {
        "id": "CekIxQ160SHq"
      },
      "execution_count": null,
      "outputs": []
    },
    {
      "cell_type": "code",
      "source": [
        "factors_vocab = create_vocab(factors_prep)\n",
        "expansions_vocab = create_vocab(expansions_prep)"
      ],
      "metadata": {
        "id": "ExOVEDDi0ZR4"
      },
      "execution_count": null,
      "outputs": []
    },
    {
      "cell_type": "code",
      "source": [
        "# Check factors and expansions vocabularies match\n",
        "\n",
        "print(len(factors_vocab))\n",
        "print(len(expansions_vocab))\n",
        "print(factors_vocab.keys() == expansions_vocab.keys())"
      ],
      "metadata": {
        "colab": {
          "base_uri": "https://localhost:8080/"
        },
        "id": "KG-B7BSz1OSK",
        "outputId": "b9775a68-b1aa-4570-be97-0ea8acb2e760"
      },
      "execution_count": null,
      "outputs": [
        {
          "output_type": "stream",
          "name": "stdout",
          "text": [
            "29\n",
            "29\n",
            "True\n"
          ]
        }
      ]
    },
    {
      "cell_type": "code",
      "source": [
        "# Padding and inserting bos, eos tokens (to decoder inputs and target sequences, respectively)\n",
        "\n",
        "def factors_padder(input_sentence):\n",
        "  pad = '<pad>'\n",
        "  for i in range(max_factors_length-len(input_sentence)):\n",
        "    input_sentence.append(pad)\n",
        "  return input_sentence\n",
        "\n",
        "def expansions_padder(input_sentence):\n",
        "  \n",
        "  pad = '<pad>'\n",
        "  bos = '<bos>'\n",
        "  eos = '<eos>'\n",
        "\n",
        "  output = [bos] + input_sentence\n",
        "  target = input_sentence + [eos]\n",
        "\n",
        "  for i in range(max_expansions_length-(len(input_sentence)+1)):\n",
        "    output.append(pad)\n",
        "    target.append(pad) \n",
        "    \n",
        "  return output, target"
      ],
      "metadata": {
        "id": "7CQFEccpyk5O"
      },
      "execution_count": null,
      "outputs": []
    },
    {
      "cell_type": "code",
      "source": [
        "outputs = []\n",
        "targets = []\n",
        "\n",
        "factors_prep = list(map(factors_padder,factors_prep))\n",
        "\n",
        "for e in expansions_prep:\n",
        "  o, t = expansions_padder(e)\n",
        "  outputs.append(o)\n",
        "  targets.append(t)\n",
        "\n",
        "expansions_prep = outputs"
      ],
      "metadata": {
        "id": "U8M4PuBwlcFD"
      },
      "execution_count": null,
      "outputs": []
    },
    {
      "cell_type": "code",
      "source": [
        "print(expansions_prep[8])\n",
        "print(targets[8])"
      ],
      "metadata": {
        "colab": {
          "base_uri": "https://localhost:8080/"
        },
        "id": "QVXVBgs9NkZj",
        "outputId": "a9d338af-5e71-48e7-fdb0-1973fcfd7e2f"
      },
      "execution_count": null,
      "outputs": [
        {
          "output_type": "stream",
          "name": "stdout",
          "text": [
            "['<bos>', '-', '5', '4', '*', 'n', '**', '2', '+', '1', '4', '4', '*', 'n', '-', '9', '0', '<pad>', '<pad>', '<pad>', '<pad>', '<pad>', '<pad>', '<pad>', '<pad>', '<pad>', '<pad>', '<pad>']\n",
            "['-', '5', '4', '*', 'n', '**', '2', '+', '1', '4', '4', '*', 'n', '-', '9', '0', '<eos>', '<pad>', '<pad>', '<pad>', '<pad>', '<pad>', '<pad>', '<pad>', '<pad>', '<pad>', '<pad>', '<pad>']\n"
          ]
        }
      ]
    },
    {
      "cell_type": "code",
      "source": [
        "# Add padding,bos,eos tags to vocabulary\n",
        "\n",
        "expansions_vocab['<pad>'] = 0\n",
        "expansions_vocab['<bos>'] = 30\n",
        "expansions_vocab['<eos>'] = 31\n",
        "vocabulary = expansions_vocab"
      ],
      "metadata": {
        "id": "w-NkExluHC7s"
      },
      "execution_count": null,
      "outputs": []
    },
    {
      "cell_type": "code",
      "source": [
        "print(vocabulary)"
      ],
      "metadata": {
        "colab": {
          "base_uri": "https://localhost:8080/"
        },
        "id": "e-7HZpm_JKA9",
        "outputId": "2a615231-01c6-48aa-b01d-22aa12f6c2eb"
      },
      "execution_count": null,
      "outputs": [
        {
          "output_type": "stream",
          "name": "stdout",
          "text": [
            "{'*': 1, '2': 2, '-': 3, '**': 4, '1': 5, '+': 6, '4': 7, '6': 8, '3': 9, '0': 10, '5': 11, '8': 12, '7': 13, '9': 14, 's': 15, 'n': 16, 'i': 17, 't': 18, 'c': 19, 'a': 20, 'o': 21, 'k': 22, 'y': 23, 'z': 24, 'j': 25, 'x': 26, 'h': 27, '(': 28, ')': 29, '<pad>': 0, '<bos>': 30, '<eos>': 31}\n"
          ]
        }
      ]
    },
    {
      "cell_type": "code",
      "source": [
        "# Create reverse vocabulary\n",
        "\n",
        "reverse_vocabulary = {v:k for k, v in vocabulary.items()}"
      ],
      "metadata": {
        "id": "o4fpNPBIcWCz"
      },
      "execution_count": null,
      "outputs": []
    },
    {
      "cell_type": "code",
      "source": [
        "# Convert tokenized sentences into interger sequences\n",
        "\n",
        "def text2seq(input_sentence):\n",
        "  sequence = []\n",
        "  for token in input_sentence:\n",
        "    sequence.append(int(vocabulary[token]))\n",
        "  return sequence"
      ],
      "metadata": {
        "id": "S68Zo7g9BRn8"
      },
      "execution_count": null,
      "outputs": []
    },
    {
      "cell_type": "code",
      "source": [
        "factors_sequences = np.array(list(map(text2seq,factors_prep)))\n",
        "expansions_sequences = np.array(list(map(text2seq,expansions_prep)))\n",
        "targets_sequences = np.array(list(map(text2seq,targets)))"
      ],
      "metadata": {
        "id": "jnI0JuoTGM68"
      },
      "execution_count": null,
      "outputs": []
    },
    {
      "cell_type": "code",
      "source": [
        "# Print an example\n",
        "\n",
        "print(factors[0])\n",
        "print(factors_sequences[0])\n",
        "print(expansions[0])\n",
        "print(expansions_sequences[0])"
      ],
      "metadata": {
        "colab": {
          "base_uri": "https://localhost:8080/"
        },
        "id": "Zy1bVS5FoclP",
        "outputId": "286eeb44-734b-4c98-e3cb-faccfcab9b48"
      },
      "execution_count": null,
      "outputs": [
        {
          "output_type": "stream",
          "name": "stdout",
          "text": [
            "2*y*(2*y-15)\n",
            "[ 2  1 23  1 28  2  1 23  3  5 11 29  0  0  0  0  0  0  0  0  0  0  0  0\n",
            "  0  0  0  0  0]\n",
            "4*y**2-30*y\n",
            "[30  7  1 23  4  2  3  9 10  1 23  0  0  0  0  0  0  0  0  0  0  0  0  0\n",
            "  0  0  0  0]\n"
          ]
        }
      ]
    },
    {
      "cell_type": "code",
      "source": [
        "# Create labels for model\n",
        "\n",
        "def create_labels(targets_data, num_samples, MAX_LEN, VOCAB_SIZE):\n",
        "  decoder_output_data = np.zeros((num_samples, MAX_LEN, VOCAB_SIZE), dtype=\"float32\")\n",
        "  for i, seqs in enumerate(targets_data):\n",
        "    for j, seq in enumerate(seqs):\n",
        "      decoder_output_data[i,j,seq] = 1.\n",
        "        \n",
        "  print(decoder_output_data.shape)\n",
        "  return decoder_output_data\n",
        "\n",
        "labels = create_labels(targets_sequences, len(targets_sequences), max_expansions_length, len(vocabulary))"
      ],
      "metadata": {
        "colab": {
          "base_uri": "https://localhost:8080/"
        },
        "id": "3jYA9hIPMr9e",
        "outputId": "ff5c2bb7-de7a-4c9a-8a1a-efcda372448c"
      },
      "execution_count": null,
      "outputs": [
        {
          "output_type": "stream",
          "name": "stdout",
          "text": [
            "(732171, 28, 32)\n"
          ]
        }
      ]
    },
    {
      "cell_type": "code",
      "source": [
        "# Variables for the model\n",
        "\n",
        "num_words = len(vocabulary)\n",
        "hidden_dim = 100\n",
        "lstm_dim = 256\n",
        "dropout_rate = 0.3\n",
        "lr = 0.005\n",
        "beta1 = 0.9\n",
        "beta2 = 0.999\n",
        "lr_decay = 0.01\n",
        "batch_size = 128\n",
        "num_epochs = 100"
      ],
      "metadata": {
        "id": "pljRP3_GYi-H"
      },
      "execution_count": null,
      "outputs": []
    },
    {
      "cell_type": "code",
      "source": [
        "# MODEL \n",
        "\n",
        "# Embedding layers\n",
        "ENC_EMB = Embedding(num_words, hidden_dim)\n",
        "DEC_EMB = Embedding(num_words, hidden_dim)\n",
        "\n",
        "def Polynomial_Seq2Seq():\n",
        "  \n",
        "  #Training Encoder\n",
        "  enc_inputs = Input(shape=(max_factors_length,),dtype=np.int64)\n",
        "  enc_embedding = ENC_EMB(enc_inputs)\n",
        "  enc_lstm = Bidirectional(LSTM(lstm_dim, activation='tanh', dropout=dropout_rate, return_state=True),merge_mode='concat')\n",
        "  encoder_outputs, h_forw, c_forw, h_back, c_back = enc_lstm(enc_embedding)\n",
        "  h = Concatenate()([h_forw, h_back])\n",
        "  c = Concatenate()([c_forw, c_back])\n",
        "  encoder_states = [h,c]\n",
        "\n",
        "  #Training Decoder\n",
        "  dec_inputs = Input(shape=(max_expansions_length,),dtype=np.int64)\n",
        "  dec_embedding = DEC_EMB(dec_inputs)\n",
        "  dec_lstm = LSTM(2*lstm_dim,activation='tanh', dropout=dropout_rate, return_sequences=True, return_state=True)\n",
        "  decoder_outputs, _ , _ = dec_lstm(dec_embedding, initial_state=encoder_states)\n",
        "\n",
        "  #Dense (to map the LSTM outputs to the words)\n",
        "  dense_1 = Dense(256, activation='tanh')\n",
        "  dense_2 = Dense(num_words, activation='softmax')\n",
        "  outputs = dense_1(decoder_outputs)\n",
        "  outputs = dense_2(outputs)\n",
        "\n",
        "  #Training Model\n",
        "  model = Model([enc_inputs, dec_inputs], outputs, name='Training_Seq2Seq')\n",
        "\n",
        "  #Inference Encoder\n",
        "  encoder = Model(enc_inputs, encoder_states, name='Inference_Encoder')\n",
        "\n",
        "  #Inference Decoder\n",
        "  inf_dec_input = Input(shape=(1,))\n",
        "  decoder_state_input_h = Input(shape=(2*lstm_dim,))\n",
        "  decoder_state_input_c = Input(shape=(2*lstm_dim,))\n",
        "  decoder_states_inputs = [decoder_state_input_h, decoder_state_input_c]\n",
        "  decoder_input_emb = DEC_EMB(inf_dec_input)\n",
        "  decoder_outputs, h, c = dec_lstm(decoder_input_emb, initial_state=decoder_states_inputs)\n",
        "  decoder_states = [h, c]\n",
        "  decoder_outputs = dense_1(decoder_outputs)\n",
        "  decoder_outputs = dense_2(decoder_outputs)\n",
        "  decoder = Model([inf_dec_input] + decoder_states_inputs, [decoder_outputs] + decoder_states, name='Inference_Decoder')\n",
        "\n",
        "  return model, encoder, decoder"
      ],
      "metadata": {
        "id": "eRZtSwaJd52C"
      },
      "execution_count": null,
      "outputs": []
    },
    {
      "cell_type": "code",
      "source": [
        "model, encoder, decoder = Polynomial_Seq2Seq()\n",
        "opt = tf.keras.optimizers.Adam(learning_rate= lr, beta_1= beta1, beta_2= beta2, decay= lr_decay)\n",
        "model.compile(optimizer=opt, loss='categorical_crossentropy', metrics=['accuracy'])\n",
        "model.summary()"
      ],
      "metadata": {
        "id": "gDMdRGrTnxQp",
        "colab": {
          "base_uri": "https://localhost:8080/"
        },
        "outputId": "520d3028-90cc-4582-e83c-803cbd10e350"
      },
      "execution_count": null,
      "outputs": [
        {
          "output_type": "stream",
          "name": "stdout",
          "text": [
            "Model: \"Training_Seq2Seq\"\n",
            "__________________________________________________________________________________________________\n",
            " Layer (type)                   Output Shape         Param #     Connected to                     \n",
            "==================================================================================================\n",
            " input_1 (InputLayer)           [(None, 29)]         0           []                               \n",
            "                                                                                                  \n",
            " embedding (Embedding)          (None, 29, 100)      3200        ['input_1[0][0]']                \n",
            "                                                                                                  \n",
            " input_2 (InputLayer)           [(None, 28)]         0           []                               \n",
            "                                                                                                  \n",
            " bidirectional (Bidirectional)  [(None, 512),        731136      ['embedding[0][0]']              \n",
            "                                 (None, 256),                                                     \n",
            "                                 (None, 256),                                                     \n",
            "                                 (None, 256),                                                     \n",
            "                                 (None, 256)]                                                     \n",
            "                                                                                                  \n",
            " embedding_1 (Embedding)        multiple             3200        ['input_2[0][0]']                \n",
            "                                                                                                  \n",
            " concatenate (Concatenate)      (None, 512)          0           ['bidirectional[0][1]',          \n",
            "                                                                  'bidirectional[0][3]']          \n",
            "                                                                                                  \n",
            " concatenate_1 (Concatenate)    (None, 512)          0           ['bidirectional[0][2]',          \n",
            "                                                                  'bidirectional[0][4]']          \n",
            "                                                                                                  \n",
            " lstm_1 (LSTM)                  multiple             1255424     ['embedding_1[0][0]',            \n",
            "                                                                  'concatenate[0][0]',            \n",
            "                                                                  'concatenate_1[0][0]']          \n",
            "                                                                                                  \n",
            " dense (Dense)                  multiple             131328      ['lstm_1[0][0]']                 \n",
            "                                                                                                  \n",
            " dense_1 (Dense)                multiple             8224        ['dense[0][0]']                  \n",
            "                                                                                                  \n",
            "==================================================================================================\n",
            "Total params: 2,132,512\n",
            "Trainable params: 2,132,512\n",
            "Non-trainable params: 0\n",
            "__________________________________________________________________________________________________\n"
          ]
        }
      ]
    },
    {
      "cell_type": "code",
      "source": [
        "# Save model architecture\n",
        "\n",
        "with open('network.txt', 'w') as f:\n",
        "\n",
        "    model.summary(print_fn=lambda x: f.write(x + '\\n'))\n",
        "    encoder.summary(print_fn=lambda x: f.write(x + '\\n'))\n",
        "    decoder.summary(print_fn=lambda x: f.write(x + '\\n'))"
      ],
      "metadata": {
        "id": "-qTva-lwdF5c"
      },
      "execution_count": null,
      "outputs": []
    },
    {
      "cell_type": "code",
      "source": [
        "# Training\n",
        "\n",
        "results = model.fit(\n",
        "    [factors_sequences, expansions_sequences],\n",
        "    labels,\n",
        "    batch_size = batch_size,\n",
        "    epochs = num_epochs,\n",
        "    validation_split = 0.2\n",
        ")"
      ],
      "metadata": {
        "colab": {
          "base_uri": "https://localhost:8080/"
        },
        "id": "7FlTO2fin9Qd",
        "outputId": "b4ba59ac-7961-4f03-9176-2cf2b72550d5"
      },
      "execution_count": null,
      "outputs": [
        {
          "output_type": "stream",
          "name": "stdout",
          "text": [
            "Epoch 1/100\n",
            "4577/4577 [==============================] - 122s 25ms/step - loss: 0.3892 - accuracy: 0.8586 - val_loss: 0.2225 - val_accuracy: 0.9149\n",
            "Epoch 2/100\n",
            "4577/4577 [==============================] - 115s 25ms/step - loss: 0.2020 - accuracy: 0.9222 - val_loss: 0.1562 - val_accuracy: 0.9430\n",
            "Epoch 3/100\n",
            "4577/4577 [==============================] - 115s 25ms/step - loss: 0.1609 - accuracy: 0.9379 - val_loss: 0.1278 - val_accuracy: 0.9538\n",
            "Epoch 4/100\n",
            "4577/4577 [==============================] - 115s 25ms/step - loss: 0.1381 - accuracy: 0.9467 - val_loss: 0.1087 - val_accuracy: 0.9619\n",
            "Epoch 5/100\n",
            "4577/4577 [==============================] - 115s 25ms/step - loss: 0.1235 - accuracy: 0.9522 - val_loss: 0.0990 - val_accuracy: 0.9650\n",
            "Epoch 6/100\n",
            "4577/4577 [==============================] - 115s 25ms/step - loss: 0.1131 - accuracy: 0.9562 - val_loss: 0.0896 - val_accuracy: 0.9690\n",
            "Epoch 7/100\n",
            "4577/4577 [==============================] - 115s 25ms/step - loss: 0.1053 - accuracy: 0.9592 - val_loss: 0.0845 - val_accuracy: 0.9705\n",
            "Epoch 8/100\n",
            "4577/4577 [==============================] - 115s 25ms/step - loss: 0.0993 - accuracy: 0.9614 - val_loss: 0.0803 - val_accuracy: 0.9713\n",
            "Epoch 9/100\n",
            "4577/4577 [==============================] - 124s 27ms/step - loss: 0.0945 - accuracy: 0.9632 - val_loss: 0.0753 - val_accuracy: 0.9740\n",
            "Epoch 10/100\n",
            "4577/4577 [==============================] - 115s 25ms/step - loss: 0.0904 - accuracy: 0.9647 - val_loss: 0.0721 - val_accuracy: 0.9750\n",
            "Epoch 11/100\n",
            "4577/4577 [==============================] - 115s 25ms/step - loss: 0.0871 - accuracy: 0.9660 - val_loss: 0.0704 - val_accuracy: 0.9750\n",
            "Epoch 12/100\n",
            "4577/4577 [==============================] - 115s 25ms/step - loss: 0.0843 - accuracy: 0.9670 - val_loss: 0.0677 - val_accuracy: 0.9762\n",
            "Epoch 13/100\n",
            "4577/4577 [==============================] - 115s 25ms/step - loss: 0.0820 - accuracy: 0.9678 - val_loss: 0.0656 - val_accuracy: 0.9770\n",
            "Epoch 14/100\n",
            "4577/4577 [==============================] - 115s 25ms/step - loss: 0.0797 - accuracy: 0.9687 - val_loss: 0.0647 - val_accuracy: 0.9772\n",
            "Epoch 15/100\n",
            "4577/4577 [==============================] - 114s 25ms/step - loss: 0.0778 - accuracy: 0.9694 - val_loss: 0.0628 - val_accuracy: 0.9778\n",
            "Epoch 16/100\n",
            "4577/4577 [==============================] - 116s 25ms/step - loss: 0.0762 - accuracy: 0.9700 - val_loss: 0.0612 - val_accuracy: 0.9786\n",
            "Epoch 17/100\n",
            "4577/4577 [==============================] - 115s 25ms/step - loss: 0.0747 - accuracy: 0.9706 - val_loss: 0.0600 - val_accuracy: 0.9791\n",
            "Epoch 18/100\n",
            "4577/4577 [==============================] - 117s 26ms/step - loss: 0.0733 - accuracy: 0.9711 - val_loss: 0.0592 - val_accuracy: 0.9792\n",
            "Epoch 19/100\n",
            "4577/4577 [==============================] - 115s 25ms/step - loss: 0.0721 - accuracy: 0.9716 - val_loss: 0.0581 - val_accuracy: 0.9796\n",
            "Epoch 20/100\n",
            "4577/4577 [==============================] - 115s 25ms/step - loss: 0.0709 - accuracy: 0.9720 - val_loss: 0.0576 - val_accuracy: 0.9794\n",
            "Epoch 21/100\n",
            "4577/4577 [==============================] - 115s 25ms/step - loss: 0.0699 - accuracy: 0.9724 - val_loss: 0.0562 - val_accuracy: 0.9804\n",
            "Epoch 22/100\n",
            "4577/4577 [==============================] - 115s 25ms/step - loss: 0.0690 - accuracy: 0.9727 - val_loss: 0.0556 - val_accuracy: 0.9806\n",
            "Epoch 23/100\n",
            "4577/4577 [==============================] - 115s 25ms/step - loss: 0.0681 - accuracy: 0.9731 - val_loss: 0.0549 - val_accuracy: 0.9809\n",
            "Epoch 24/100\n",
            "4577/4577 [==============================] - 114s 25ms/step - loss: 0.0672 - accuracy: 0.9734 - val_loss: 0.0543 - val_accuracy: 0.9810\n",
            "Epoch 25/100\n",
            "4577/4577 [==============================] - 115s 25ms/step - loss: 0.0665 - accuracy: 0.9736 - val_loss: 0.0536 - val_accuracy: 0.9812\n",
            "Epoch 26/100\n",
            "4577/4577 [==============================] - 114s 25ms/step - loss: 0.0657 - accuracy: 0.9740 - val_loss: 0.0529 - val_accuracy: 0.9815\n",
            "Epoch 27/100\n",
            "4577/4577 [==============================] - 114s 25ms/step - loss: 0.0650 - accuracy: 0.9742 - val_loss: 0.0523 - val_accuracy: 0.9817\n",
            "Epoch 28/100\n",
            "4577/4577 [==============================] - 114s 25ms/step - loss: 0.0644 - accuracy: 0.9744 - val_loss: 0.0519 - val_accuracy: 0.9818\n",
            "Epoch 29/100\n",
            "4577/4577 [==============================] - 114s 25ms/step - loss: 0.0638 - accuracy: 0.9747 - val_loss: 0.0514 - val_accuracy: 0.9821\n",
            "Epoch 30/100\n",
            "4577/4577 [==============================] - 114s 25ms/step - loss: 0.0632 - accuracy: 0.9749 - val_loss: 0.0509 - val_accuracy: 0.9824\n",
            "Epoch 31/100\n",
            "4577/4577 [==============================] - 117s 26ms/step - loss: 0.0627 - accuracy: 0.9752 - val_loss: 0.0505 - val_accuracy: 0.9824\n",
            "Epoch 32/100\n",
            "4577/4577 [==============================] - 114s 25ms/step - loss: 0.0622 - accuracy: 0.9754 - val_loss: 0.0500 - val_accuracy: 0.9827\n",
            "Epoch 33/100\n",
            "4577/4577 [==============================] - 114s 25ms/step - loss: 0.0617 - accuracy: 0.9755 - val_loss: 0.0495 - val_accuracy: 0.9829\n",
            "Epoch 34/100\n",
            "4577/4577 [==============================] - 115s 25ms/step - loss: 0.0612 - accuracy: 0.9757 - val_loss: 0.0491 - val_accuracy: 0.9831\n",
            "Epoch 35/100\n",
            "4577/4577 [==============================] - 114s 25ms/step - loss: 0.0608 - accuracy: 0.9759 - val_loss: 0.0487 - val_accuracy: 0.9833\n",
            "Epoch 36/100\n",
            "4577/4577 [==============================] - 115s 25ms/step - loss: 0.0604 - accuracy: 0.9760 - val_loss: 0.0483 - val_accuracy: 0.9835\n",
            "Epoch 37/100\n",
            "4577/4577 [==============================] - 115s 25ms/step - loss: 0.0599 - accuracy: 0.9762 - val_loss: 0.0482 - val_accuracy: 0.9834\n",
            "Epoch 38/100\n",
            "4577/4577 [==============================] - 114s 25ms/step - loss: 0.0595 - accuracy: 0.9764 - val_loss: 0.0477 - val_accuracy: 0.9836\n",
            "Epoch 39/100\n",
            "4577/4577 [==============================] - 114s 25ms/step - loss: 0.0591 - accuracy: 0.9765 - val_loss: 0.0476 - val_accuracy: 0.9835\n",
            "Epoch 40/100\n",
            "4577/4577 [==============================] - 115s 25ms/step - loss: 0.0587 - accuracy: 0.9767 - val_loss: 0.0471 - val_accuracy: 0.9838\n",
            "Epoch 41/100\n",
            "4577/4577 [==============================] - 114s 25ms/step - loss: 0.0584 - accuracy: 0.9768 - val_loss: 0.0469 - val_accuracy: 0.9839\n",
            "Epoch 42/100\n",
            "4577/4577 [==============================] - 115s 25ms/step - loss: 0.0580 - accuracy: 0.9769 - val_loss: 0.0465 - val_accuracy: 0.9841\n",
            "Epoch 43/100\n",
            "4577/4577 [==============================] - 114s 25ms/step - loss: 0.0577 - accuracy: 0.9771 - val_loss: 0.0464 - val_accuracy: 0.9841\n",
            "Epoch 44/100\n",
            "4577/4577 [==============================] - 114s 25ms/step - loss: 0.0574 - accuracy: 0.9772 - val_loss: 0.0458 - val_accuracy: 0.9845\n",
            "Epoch 45/100\n",
            "4577/4577 [==============================] - 115s 25ms/step - loss: 0.0570 - accuracy: 0.9774 - val_loss: 0.0457 - val_accuracy: 0.9844\n",
            "Epoch 46/100\n",
            "4577/4577 [==============================] - 115s 25ms/step - loss: 0.0568 - accuracy: 0.9774 - val_loss: 0.0456 - val_accuracy: 0.9844\n",
            "Epoch 47/100\n",
            "4577/4577 [==============================] - 115s 25ms/step - loss: 0.0565 - accuracy: 0.9776 - val_loss: 0.0454 - val_accuracy: 0.9844\n",
            "Epoch 48/100\n",
            "4577/4577 [==============================] - 115s 25ms/step - loss: 0.0562 - accuracy: 0.9777 - val_loss: 0.0452 - val_accuracy: 0.9845\n",
            "Epoch 49/100\n",
            "4577/4577 [==============================] - 115s 25ms/step - loss: 0.0559 - accuracy: 0.9778 - val_loss: 0.0448 - val_accuracy: 0.9847\n",
            "Epoch 50/100\n",
            "4577/4577 [==============================] - 115s 25ms/step - loss: 0.0557 - accuracy: 0.9778 - val_loss: 0.0448 - val_accuracy: 0.9846\n",
            "Epoch 51/100\n",
            "4577/4577 [==============================] - 115s 25ms/step - loss: 0.0554 - accuracy: 0.9780 - val_loss: 0.0443 - val_accuracy: 0.9850\n",
            "Epoch 52/100\n",
            "4577/4577 [==============================] - 115s 25ms/step - loss: 0.0552 - accuracy: 0.9780 - val_loss: 0.0443 - val_accuracy: 0.9849\n",
            "Epoch 53/100\n",
            "4577/4577 [==============================] - 115s 25ms/step - loss: 0.0550 - accuracy: 0.9782 - val_loss: 0.0441 - val_accuracy: 0.9850\n",
            "Epoch 54/100\n",
            "4577/4577 [==============================] - 115s 25ms/step - loss: 0.0547 - accuracy: 0.9782 - val_loss: 0.0440 - val_accuracy: 0.9849\n",
            "Epoch 55/100\n",
            "4577/4577 [==============================] - 115s 25ms/step - loss: 0.0545 - accuracy: 0.9784 - val_loss: 0.0438 - val_accuracy: 0.9851\n",
            "Epoch 56/100\n",
            "4577/4577 [==============================] - 114s 25ms/step - loss: 0.0542 - accuracy: 0.9784 - val_loss: 0.0437 - val_accuracy: 0.9850\n",
            "Epoch 57/100\n",
            "4577/4577 [==============================] - 115s 25ms/step - loss: 0.0541 - accuracy: 0.9785 - val_loss: 0.0433 - val_accuracy: 0.9853\n",
            "Epoch 58/100\n",
            "4577/4577 [==============================] - 115s 25ms/step - loss: 0.0538 - accuracy: 0.9786 - val_loss: 0.0435 - val_accuracy: 0.9850\n",
            "Epoch 59/100\n",
            "4577/4577 [==============================] - 115s 25ms/step - loss: 0.0536 - accuracy: 0.9787 - val_loss: 0.0431 - val_accuracy: 0.9853\n",
            "Epoch 60/100\n",
            "4577/4577 [==============================] - 115s 25ms/step - loss: 0.0534 - accuracy: 0.9788 - val_loss: 0.0427 - val_accuracy: 0.9856\n",
            "Epoch 61/100\n",
            "4577/4577 [==============================] - 114s 25ms/step - loss: 0.0532 - accuracy: 0.9788 - val_loss: 0.0429 - val_accuracy: 0.9852\n",
            "Epoch 62/100\n",
            "4577/4577 [==============================] - 115s 25ms/step - loss: 0.0530 - accuracy: 0.9789 - val_loss: 0.0425 - val_accuracy: 0.9856\n",
            "Epoch 63/100\n",
            "4577/4577 [==============================] - 115s 25ms/step - loss: 0.0528 - accuracy: 0.9790 - val_loss: 0.0421 - val_accuracy: 0.9859\n",
            "Epoch 64/100\n",
            "4577/4577 [==============================] - 115s 25ms/step - loss: 0.0526 - accuracy: 0.9791 - val_loss: 0.0422 - val_accuracy: 0.9857\n",
            "Epoch 65/100\n",
            "4577/4577 [==============================] - 115s 25ms/step - loss: 0.0525 - accuracy: 0.9791 - val_loss: 0.0420 - val_accuracy: 0.9859\n",
            "Epoch 66/100\n",
            "4577/4577 [==============================] - 115s 25ms/step - loss: 0.0523 - accuracy: 0.9792 - val_loss: 0.0418 - val_accuracy: 0.9860\n",
            "Epoch 67/100\n",
            "4577/4577 [==============================] - 115s 25ms/step - loss: 0.0521 - accuracy: 0.9793 - val_loss: 0.0417 - val_accuracy: 0.9860\n",
            "Epoch 68/100\n",
            "4577/4577 [==============================] - 115s 25ms/step - loss: 0.0520 - accuracy: 0.9793 - val_loss: 0.0416 - val_accuracy: 0.9860\n",
            "Epoch 69/100\n",
            "4577/4577 [==============================] - 115s 25ms/step - loss: 0.0518 - accuracy: 0.9794 - val_loss: 0.0416 - val_accuracy: 0.9859\n",
            "Epoch 70/100\n",
            "4577/4577 [==============================] - 114s 25ms/step - loss: 0.0516 - accuracy: 0.9795 - val_loss: 0.0411 - val_accuracy: 0.9863\n",
            "Epoch 71/100\n",
            "4577/4577 [==============================] - 115s 25ms/step - loss: 0.0515 - accuracy: 0.9795 - val_loss: 0.0411 - val_accuracy: 0.9863\n",
            "Epoch 72/100\n",
            "4577/4577 [==============================] - 115s 25ms/step - loss: 0.0513 - accuracy: 0.9796 - val_loss: 0.0411 - val_accuracy: 0.9861\n",
            "Epoch 73/100\n",
            "4577/4577 [==============================] - 115s 25ms/step - loss: 0.0511 - accuracy: 0.9797 - val_loss: 0.0408 - val_accuracy: 0.9864\n",
            "Epoch 74/100\n",
            "4577/4577 [==============================] - 115s 25ms/step - loss: 0.0510 - accuracy: 0.9797 - val_loss: 0.0411 - val_accuracy: 0.9860\n",
            "Epoch 75/100\n",
            "4577/4577 [==============================] - 115s 25ms/step - loss: 0.0509 - accuracy: 0.9798 - val_loss: 0.0406 - val_accuracy: 0.9864\n",
            "Epoch 76/100\n",
            "4577/4577 [==============================] - 115s 25ms/step - loss: 0.0508 - accuracy: 0.9798 - val_loss: 0.0404 - val_accuracy: 0.9866\n",
            "Epoch 77/100\n",
            "4577/4577 [==============================] - 115s 25ms/step - loss: 0.0507 - accuracy: 0.9798 - val_loss: 0.0404 - val_accuracy: 0.9866\n",
            "Epoch 78/100\n",
            "4577/4577 [==============================] - 115s 25ms/step - loss: 0.0505 - accuracy: 0.9799 - val_loss: 0.0404 - val_accuracy: 0.9864\n",
            "Epoch 79/100\n",
            "4577/4577 [==============================] - 115s 25ms/step - loss: 0.0503 - accuracy: 0.9800 - val_loss: 0.0403 - val_accuracy: 0.9865\n",
            "Epoch 80/100\n",
            "4577/4577 [==============================] - 115s 25ms/step - loss: 0.0502 - accuracy: 0.9800 - val_loss: 0.0400 - val_accuracy: 0.9867\n",
            "Epoch 81/100\n",
            "4577/4577 [==============================] - 115s 25ms/step - loss: 0.0500 - accuracy: 0.9801 - val_loss: 0.0399 - val_accuracy: 0.9868\n",
            "Epoch 82/100\n",
            "4577/4577 [==============================] - 115s 25ms/step - loss: 0.0499 - accuracy: 0.9802 - val_loss: 0.0398 - val_accuracy: 0.9868\n",
            "Epoch 83/100\n",
            "4577/4577 [==============================] - 115s 25ms/step - loss: 0.0498 - accuracy: 0.9802 - val_loss: 0.0398 - val_accuracy: 0.9867\n",
            "Epoch 84/100\n",
            "4577/4577 [==============================] - 115s 25ms/step - loss: 0.0497 - accuracy: 0.9802 - val_loss: 0.0396 - val_accuracy: 0.9868\n",
            "Epoch 85/100\n",
            "4577/4577 [==============================] - 115s 25ms/step - loss: 0.0496 - accuracy: 0.9803 - val_loss: 0.0396 - val_accuracy: 0.9868\n",
            "Epoch 86/100\n",
            "4577/4577 [==============================] - 115s 25ms/step - loss: 0.0495 - accuracy: 0.9803 - val_loss: 0.0398 - val_accuracy: 0.9866\n",
            "Epoch 87/100\n",
            "4577/4577 [==============================] - 115s 25ms/step - loss: 0.0494 - accuracy: 0.9804 - val_loss: 0.0393 - val_accuracy: 0.9870\n",
            "Epoch 88/100\n",
            "4577/4577 [==============================] - 115s 25ms/step - loss: 0.0492 - accuracy: 0.9805 - val_loss: 0.0393 - val_accuracy: 0.9869\n",
            "Epoch 89/100\n",
            "4577/4577 [==============================] - 115s 25ms/step - loss: 0.0491 - accuracy: 0.9805 - val_loss: 0.0390 - val_accuracy: 0.9872\n",
            "Epoch 90/100\n",
            "4577/4577 [==============================] - 115s 25ms/step - loss: 0.0490 - accuracy: 0.9805 - val_loss: 0.0392 - val_accuracy: 0.9869\n",
            "Epoch 91/100\n",
            "4577/4577 [==============================] - 115s 25ms/step - loss: 0.0489 - accuracy: 0.9806 - val_loss: 0.0391 - val_accuracy: 0.9869\n",
            "Epoch 92/100\n",
            "4577/4577 [==============================] - 115s 25ms/step - loss: 0.0488 - accuracy: 0.9806 - val_loss: 0.0387 - val_accuracy: 0.9873\n",
            "Epoch 93/100\n",
            "4577/4577 [==============================] - 115s 25ms/step - loss: 0.0486 - accuracy: 0.9807 - val_loss: 0.0387 - val_accuracy: 0.9872\n",
            "Epoch 94/100\n",
            "4577/4577 [==============================] - 115s 25ms/step - loss: 0.0485 - accuracy: 0.9807 - val_loss: 0.0386 - val_accuracy: 0.9873\n",
            "Epoch 95/100\n",
            "4577/4577 [==============================] - 115s 25ms/step - loss: 0.0484 - accuracy: 0.9808 - val_loss: 0.0385 - val_accuracy: 0.9875\n",
            "Epoch 96/100\n",
            "4577/4577 [==============================] - 115s 25ms/step - loss: 0.0483 - accuracy: 0.9808 - val_loss: 0.0384 - val_accuracy: 0.9874\n",
            "Epoch 97/100\n",
            "4577/4577 [==============================] - 115s 25ms/step - loss: 0.0482 - accuracy: 0.9809 - val_loss: 0.0384 - val_accuracy: 0.9874\n",
            "Epoch 98/100\n",
            "4577/4577 [==============================] - 115s 25ms/step - loss: 0.0482 - accuracy: 0.9808 - val_loss: 0.0382 - val_accuracy: 0.9875\n",
            "Epoch 99/100\n",
            "4577/4577 [==============================] - 115s 25ms/step - loss: 0.0480 - accuracy: 0.9809 - val_loss: 0.0383 - val_accuracy: 0.9875\n",
            "Epoch 100/100\n",
            "4577/4577 [==============================] - 115s 25ms/step - loss: 0.0480 - accuracy: 0.9810 - val_loss: 0.0384 - val_accuracy: 0.9871\n"
          ]
        }
      ]
    },
    {
      "cell_type": "code",
      "source": [
        "# Print accuracies over epochs\n",
        "\n",
        "x = [title for title in model.history.history.keys() if 'accuracy' in title]\n",
        "df = pd.DataFrame(model.history.history)[x]\n",
        "df"
      ],
      "metadata": {
        "id": "b8-zAeC8cSkc",
        "colab": {
          "base_uri": "https://localhost:8080/",
          "height": 419
        },
        "outputId": "c1d16f81-1836-4f6d-8d47-6743e516ba5f"
      },
      "execution_count": null,
      "outputs": [
        {
          "output_type": "execute_result",
          "data": {
            "text/plain": [
              "    accuracy  val_accuracy\n",
              "0   0.858567      0.914899\n",
              "1   0.922184      0.943011\n",
              "2   0.937930      0.953807\n",
              "3   0.946654      0.961905\n",
              "4   0.952204      0.964958\n",
              "..       ...           ...\n",
              "95  0.980802      0.987416\n",
              "96  0.980873      0.987440\n",
              "97  0.980841      0.987457\n",
              "98  0.980928      0.987472\n",
              "99  0.980959      0.987120\n",
              "\n",
              "[100 rows x 2 columns]"
            ],
            "text/html": [
              "\n",
              "  <div id=\"df-23bc863f-0565-48d2-8f67-8039492b50bd\">\n",
              "    <div class=\"colab-df-container\">\n",
              "      <div>\n",
              "<style scoped>\n",
              "    .dataframe tbody tr th:only-of-type {\n",
              "        vertical-align: middle;\n",
              "    }\n",
              "\n",
              "    .dataframe tbody tr th {\n",
              "        vertical-align: top;\n",
              "    }\n",
              "\n",
              "    .dataframe thead th {\n",
              "        text-align: right;\n",
              "    }\n",
              "</style>\n",
              "<table border=\"1\" class=\"dataframe\">\n",
              "  <thead>\n",
              "    <tr style=\"text-align: right;\">\n",
              "      <th></th>\n",
              "      <th>accuracy</th>\n",
              "      <th>val_accuracy</th>\n",
              "    </tr>\n",
              "  </thead>\n",
              "  <tbody>\n",
              "    <tr>\n",
              "      <th>0</th>\n",
              "      <td>0.858567</td>\n",
              "      <td>0.914899</td>\n",
              "    </tr>\n",
              "    <tr>\n",
              "      <th>1</th>\n",
              "      <td>0.922184</td>\n",
              "      <td>0.943011</td>\n",
              "    </tr>\n",
              "    <tr>\n",
              "      <th>2</th>\n",
              "      <td>0.937930</td>\n",
              "      <td>0.953807</td>\n",
              "    </tr>\n",
              "    <tr>\n",
              "      <th>3</th>\n",
              "      <td>0.946654</td>\n",
              "      <td>0.961905</td>\n",
              "    </tr>\n",
              "    <tr>\n",
              "      <th>4</th>\n",
              "      <td>0.952204</td>\n",
              "      <td>0.964958</td>\n",
              "    </tr>\n",
              "    <tr>\n",
              "      <th>...</th>\n",
              "      <td>...</td>\n",
              "      <td>...</td>\n",
              "    </tr>\n",
              "    <tr>\n",
              "      <th>95</th>\n",
              "      <td>0.980802</td>\n",
              "      <td>0.987416</td>\n",
              "    </tr>\n",
              "    <tr>\n",
              "      <th>96</th>\n",
              "      <td>0.980873</td>\n",
              "      <td>0.987440</td>\n",
              "    </tr>\n",
              "    <tr>\n",
              "      <th>97</th>\n",
              "      <td>0.980841</td>\n",
              "      <td>0.987457</td>\n",
              "    </tr>\n",
              "    <tr>\n",
              "      <th>98</th>\n",
              "      <td>0.980928</td>\n",
              "      <td>0.987472</td>\n",
              "    </tr>\n",
              "    <tr>\n",
              "      <th>99</th>\n",
              "      <td>0.980959</td>\n",
              "      <td>0.987120</td>\n",
              "    </tr>\n",
              "  </tbody>\n",
              "</table>\n",
              "<p>100 rows × 2 columns</p>\n",
              "</div>\n",
              "      <button class=\"colab-df-convert\" onclick=\"convertToInteractive('df-23bc863f-0565-48d2-8f67-8039492b50bd')\"\n",
              "              title=\"Convert this dataframe to an interactive table.\"\n",
              "              style=\"display:none;\">\n",
              "        \n",
              "  <svg xmlns=\"http://www.w3.org/2000/svg\" height=\"24px\"viewBox=\"0 0 24 24\"\n",
              "       width=\"24px\">\n",
              "    <path d=\"M0 0h24v24H0V0z\" fill=\"none\"/>\n",
              "    <path d=\"M18.56 5.44l.94 2.06.94-2.06 2.06-.94-2.06-.94-.94-2.06-.94 2.06-2.06.94zm-11 1L8.5 8.5l.94-2.06 2.06-.94-2.06-.94L8.5 2.5l-.94 2.06-2.06.94zm10 10l.94 2.06.94-2.06 2.06-.94-2.06-.94-.94-2.06-.94 2.06-2.06.94z\"/><path d=\"M17.41 7.96l-1.37-1.37c-.4-.4-.92-.59-1.43-.59-.52 0-1.04.2-1.43.59L10.3 9.45l-7.72 7.72c-.78.78-.78 2.05 0 2.83L4 21.41c.39.39.9.59 1.41.59.51 0 1.02-.2 1.41-.59l7.78-7.78 2.81-2.81c.8-.78.8-2.07 0-2.86zM5.41 20L4 18.59l7.72-7.72 1.47 1.35L5.41 20z\"/>\n",
              "  </svg>\n",
              "      </button>\n",
              "      \n",
              "  <style>\n",
              "    .colab-df-container {\n",
              "      display:flex;\n",
              "      flex-wrap:wrap;\n",
              "      gap: 12px;\n",
              "    }\n",
              "\n",
              "    .colab-df-convert {\n",
              "      background-color: #E8F0FE;\n",
              "      border: none;\n",
              "      border-radius: 50%;\n",
              "      cursor: pointer;\n",
              "      display: none;\n",
              "      fill: #1967D2;\n",
              "      height: 32px;\n",
              "      padding: 0 0 0 0;\n",
              "      width: 32px;\n",
              "    }\n",
              "\n",
              "    .colab-df-convert:hover {\n",
              "      background-color: #E2EBFA;\n",
              "      box-shadow: 0px 1px 2px rgba(60, 64, 67, 0.3), 0px 1px 3px 1px rgba(60, 64, 67, 0.15);\n",
              "      fill: #174EA6;\n",
              "    }\n",
              "\n",
              "    [theme=dark] .colab-df-convert {\n",
              "      background-color: #3B4455;\n",
              "      fill: #D2E3FC;\n",
              "    }\n",
              "\n",
              "    [theme=dark] .colab-df-convert:hover {\n",
              "      background-color: #434B5C;\n",
              "      box-shadow: 0px 1px 3px 1px rgba(0, 0, 0, 0.15);\n",
              "      filter: drop-shadow(0px 1px 2px rgba(0, 0, 0, 0.3));\n",
              "      fill: #FFFFFF;\n",
              "    }\n",
              "  </style>\n",
              "\n",
              "      <script>\n",
              "        const buttonEl =\n",
              "          document.querySelector('#df-23bc863f-0565-48d2-8f67-8039492b50bd button.colab-df-convert');\n",
              "        buttonEl.style.display =\n",
              "          google.colab.kernel.accessAllowed ? 'block' : 'none';\n",
              "\n",
              "        async function convertToInteractive(key) {\n",
              "          const element = document.querySelector('#df-23bc863f-0565-48d2-8f67-8039492b50bd');\n",
              "          const dataTable =\n",
              "            await google.colab.kernel.invokeFunction('convertToInteractive',\n",
              "                                                     [key], {});\n",
              "          if (!dataTable) return;\n",
              "\n",
              "          const docLinkHtml = 'Like what you see? Visit the ' +\n",
              "            '<a target=\"_blank\" href=https://colab.research.google.com/notebooks/data_table.ipynb>data table notebook</a>'\n",
              "            + ' to learn more about interactive tables.';\n",
              "          element.innerHTML = '';\n",
              "          dataTable['output_type'] = 'display_data';\n",
              "          await google.colab.output.renderOutput(dataTable, element);\n",
              "          const docLink = document.createElement('div');\n",
              "          docLink.innerHTML = docLinkHtml;\n",
              "          element.appendChild(docLink);\n",
              "        }\n",
              "      </script>\n",
              "    </div>\n",
              "  </div>\n",
              "  "
            ]
          },
          "metadata": {},
          "execution_count": 29
        }
      ]
    },
    {
      "cell_type": "code",
      "source": [
        "# Save model weigths\n",
        "\n",
        "model.save_weights('seq2seq_weights.h5')\n",
        "encoder.save_weights('encoder_weights.h5')\n",
        "decoder.save_weights('decoder_weights.h5')"
      ],
      "metadata": {
        "id": "Fux_rhk8cTv4"
      },
      "execution_count": null,
      "outputs": []
    },
    {
      "cell_type": "code",
      "source": [
        "# Save model\n",
        "\n",
        "model.save('seq2seq.h5')\n",
        "encoder.save('encoder.h5')\n",
        "decoder.save('decoder.h5')"
      ],
      "metadata": {
        "id": "mpQX2NcIehJs"
      },
      "execution_count": null,
      "outputs": []
    },
    {
      "cell_type": "code",
      "source": [
        "# Predictive function\n",
        "\n",
        "def predict(input_seq):\n",
        "    states_value = encoder.predict(input_seq)\n",
        "    target_seq = np.zeros((1, 1))\n",
        "    target_seq[0, 0] = vocabulary['<bos>']\n",
        "    eos = vocabulary['<eos>']\n",
        "    output_sentence = []\n",
        "\n",
        "    for _ in range(max_expansions_length):\n",
        "        output_tokens, h, c = decoder.predict([target_seq] + states_value)\n",
        "        idx = np.argmax(output_tokens[0, 0, :])\n",
        "\n",
        "        if eos == idx:\n",
        "            break \n",
        "\n",
        "        word = ''\n",
        "\n",
        "        if idx > 0:\n",
        "            word = reverse_vocabulary[idx]\n",
        "            output_sentence.append(word)\n",
        "\n",
        "        target_seq[0, 0] = idx\n",
        "        states_value = [h, c]\n",
        "\n",
        "    return (' '.join(output_sentence)).replace(' ','')"
      ],
      "metadata": {
        "id": "OLZVQCV3Ta3H"
      },
      "execution_count": null,
      "outputs": []
    }
  ]
}